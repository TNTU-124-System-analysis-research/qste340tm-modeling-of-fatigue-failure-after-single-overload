{
 "cells": [
  {
   "cell_type": "code",
   "execution_count": 109,
   "metadata": {},
   "outputs": [],
   "source": [
    "# libraries import\n",
    "import pandas as pd\n",
    "import matplotlib.pyplot as plt\n",
    "\n",
    "from sklearn.preprocessing import MinMaxScaler\n",
    "from keras.models import Sequential\n",
    "from keras.layers import Dense, Activation\n",
    "import numpy as np\n",
    "import pandas as pd\n",
    "from keras._tf_keras.keras.callbacks import EarlyStopping\n",
    "from sklearn.model_selection import train_test_split\n",
    "from sklearn.ensemble import RandomForestRegressor\n"
   ]
  },
  {
   "cell_type": "code",
   "execution_count": 110,
   "metadata": {},
   "outputs": [
    {
     "name": "stdout",
     "output_type": "stream",
     "text": [
      "       cycles crack length       cycles.1 crack length.1       cycles.2  \\\n",
      "0         NaN           mm            NaN             mm            NaN   \n",
      "1    R=0.1,CA     R=0.1,CA  R=0.1,OLR=1.5  R=0.1,OLR=1.5  R=0.1,OLR=2.0   \n",
      "2        9210      10.2752           9984        10.3196           7528   \n",
      "3       11186      10.3271          12236         10.371           9281   \n",
      "4       13372      10.3835          17057         10.423          11247   \n",
      "..        ...          ...            ...            ...            ...   \n",
      "245    137559      23.1331         190757         23.223            NaN   \n",
      "246    137629      23.1878         190838        23.2772            NaN   \n",
      "247    137691      23.2419         190894        23.3292            NaN   \n",
      "248    137747      23.2949         190971        23.3804            NaN   \n",
      "249    137810      23.3462         191033        23.4311            NaN   \n",
      "\n",
      "    crack length.2  cycles.3 crack length.3       cycles.4 crack length.4  \\\n",
      "0               mm       NaN             mm            NaN             mm   \n",
      "1    R=0.1,OLR=2.0  R=0.3,CA       R=0.3,CA  R=0.3,OLR=1.5  R=0.3,OLR=1.5   \n",
      "2          10.2713      7975         10.369           7683        10.3477   \n",
      "3          10.3229      9799        10.4237           9418        10.4015   \n",
      "4           10.375     11414        10.4739          11083        10.4542   \n",
      "..             ...       ...            ...            ...            ...   \n",
      "245            NaN       NaN            NaN            NaN            NaN   \n",
      "246            NaN       NaN            NaN            NaN            NaN   \n",
      "247            NaN       NaN            NaN            NaN            NaN   \n",
      "248            NaN       NaN            NaN            NaN            NaN   \n",
      "249            NaN       NaN            NaN            NaN            NaN   \n",
      "\n",
      "     ...       cycles.7 crack length.7       cycles.8 crack length.8  \\\n",
      "0    ...            NaN             mm            NaN             mm   \n",
      "1    ...  R=0.5,OLR=1.5  R=0.5,OLR=1.5  R=0.5,OLR=2.0  R=0.5,OLR=2.0   \n",
      "2    ...          11833         10.447          12245        10.4301   \n",
      "3    ...          14591        10.4994          14696        10.4811   \n",
      "4    ...          17402        10.5509          17193        10.5316   \n",
      "..   ...            ...            ...            ...            ...   \n",
      "245  ...            NaN            NaN            NaN            NaN   \n",
      "246  ...            NaN            NaN            NaN            NaN   \n",
      "247  ...            NaN            NaN            NaN            NaN   \n",
      "248  ...            NaN            NaN            NaN            NaN   \n",
      "249  ...            NaN            NaN            NaN            NaN   \n",
      "\n",
      "     cycles.9 crack length.9      cycles.10 crack length.10      cycles.11  \\\n",
      "0         NaN             mm            NaN              mm            NaN   \n",
      "1    R=0.7,CA       R=0.7,CA  R=0.7,OLR=1.5   R=0.7,OLR=1.5  R=0.7,OLR=2.0   \n",
      "2       18146        10.4717          20008         10.5948          21723   \n",
      "3       22018        10.5255          24126         10.6454          25000   \n",
      "4       26536        10.5766          25003         10.6217          25041   \n",
      "..        ...            ...            ...             ...            ...   \n",
      "245       NaN            NaN            NaN             NaN            NaN   \n",
      "246       NaN            NaN            NaN             NaN            NaN   \n",
      "247       NaN            NaN            NaN             NaN            NaN   \n",
      "248       NaN            NaN            NaN             NaN            NaN   \n",
      "249       NaN            NaN            NaN             NaN            NaN   \n",
      "\n",
      "    crack length.11  \n",
      "0                mm  \n",
      "1     R=0.7,OLR=2.0  \n",
      "2             10.45  \n",
      "3           10.4219  \n",
      "4            10.474  \n",
      "..              ...  \n",
      "245             NaN  \n",
      "246             NaN  \n",
      "247             NaN  \n",
      "248             NaN  \n",
      "249             NaN  \n",
      "\n",
      "[250 rows x 24 columns]\n"
     ]
    }
   ],
   "source": [
    "df = pd.read_excel('fig3.xlsx')\n",
    "print(df)"
   ]
  },
  {
   "cell_type": "code",
   "execution_count": 111,
   "metadata": {},
   "outputs": [
    {
     "name": "stdout",
     "output_type": "stream",
     "text": [
      "     cycles crack length    R   OLR\n",
      "2      9210      10.2752  0.1  None\n",
      "3     11186      10.3271  0.1  None\n",
      "4     13372      10.3835  0.1  None\n",
      "5     15492      10.4358  0.1  None\n",
      "6     17102      10.4875  0.1  None\n",
      "..      ...          ...  ...   ...\n",
      "245  137559      23.1331  0.1  None\n",
      "246  137629      23.1878  0.1  None\n",
      "247  137691      23.2419  0.1  None\n",
      "248  137747      23.2949  0.1  None\n",
      "249  137810      23.3462  0.1  None\n",
      "\n",
      "[248 rows x 4 columns]\n"
     ]
    },
    {
     "name": "stderr",
     "output_type": "stream",
     "text": [
      "/tmp/ipykernel_137358/2228567306.py:7: SettingWithCopyWarning: \n",
      "A value is trying to be set on a copy of a slice from a DataFrame.\n",
      "Try using .loc[row_indexer,col_indexer] = value instead\n",
      "\n",
      "See the caveats in the documentation: https://pandas.pydata.org/pandas-docs/stable/user_guide/indexing.html#returning-a-view-versus-a-copy\n",
      "  df1['R'] = df1.iloc[1, 0].split('R=')[1].split(',')[0] if 'R=' in df1.iloc[1, 0] else None\n",
      "/tmp/ipykernel_137358/2228567306.py:8: SettingWithCopyWarning: \n",
      "A value is trying to be set on a copy of a slice from a DataFrame.\n",
      "Try using .loc[row_indexer,col_indexer] = value instead\n",
      "\n",
      "See the caveats in the documentation: https://pandas.pydata.org/pandas-docs/stable/user_guide/indexing.html#returning-a-view-versus-a-copy\n",
      "  df1['OLR'] = df1.iloc[1, 0].split('OLR=')[1] if 'OLR=' in df1.iloc[1, 0] else None\n"
     ]
    }
   ],
   "source": [
    "# Keep the only first two columns\n",
    "df1 = df.iloc[:, 0:2]\n",
    "\n",
    "# Add two new columnns using the first cell of second row\n",
    "# It can contain one or thow values in form of R=some or OLR=some\n",
    "# We shoudl parse it and add two new columns\n",
    "df1['R'] = df1.iloc[1, 0].split('R=')[1].split(',')[0] if 'R=' in df1.iloc[1, 0] else None\n",
    "df1['OLR'] = df1.iloc[1, 0].split('OLR=')[1] if 'OLR=' in df1.iloc[1, 0] else None\n",
    "\n",
    "\n",
    "# Remove the first and second row\n",
    "df1 = df1.iloc[2:, :]\n",
    "\n",
    "print(df1)\n"
   ]
  },
  {
   "cell_type": "code",
   "execution_count": 112,
   "metadata": {},
   "outputs": [
    {
     "name": "stderr",
     "output_type": "stream",
     "text": [
      "/tmp/ipykernel_137358/3115824146.py:63: FutureWarning: The behavior of DataFrame concatenation with empty or all-NA entries is deprecated. In a future version, this will no longer exclude empty or all-NA columns when determining the result dtypes. To retain the old behavior, exclude the relevant entries before the concat operation.\n",
      "  data = pd.concat([E1, E2, E3, E4, E5, E6, E7, E8, E9, E10, E11, E12])\n"
     ]
    }
   ],
   "source": [
    "# Split the data into experiments\n",
    "E1 = df.iloc[:, 0:2]\n",
    "E1 = E1.iloc[2:, :]\n",
    "E1.columns = ['cycles', 'crack length']\n",
    "E1['R'], E1['OLR'] = 0.1, None\n",
    "\n",
    "E2 = df.iloc[:, 2:4]\n",
    "E2 = E2.iloc[2:, :]\n",
    "E2.columns = ['cycles', 'crack length']\n",
    "E2['R'], E2['OLR'] = 0.1, 1.5\n",
    "\n",
    "E3 = df.iloc[:, 4:6]\n",
    "E3 = E3.iloc[2:, :]\n",
    "E3.columns = ['cycles', 'crack length']\n",
    "E3['R'], E3['OLR'] = 0.1, 2.0\n",
    "\n",
    "E4 = df.iloc[:, 6:8]\n",
    "E4 = E4.iloc[2:, :]\n",
    "E4.columns = ['cycles', 'crack length']\n",
    "E4['R'], E4['OLR'] = 0.3, None\n",
    "\n",
    "E5 = df.iloc[:, 8:10]\n",
    "E5 = E5.iloc[2:, :]\n",
    "E5.columns = ['cycles', 'crack length']\n",
    "E5['R'], E5['OLR'] = 0.3, 1.5\n",
    "\n",
    "E6 = df.iloc[:, 10:12]\n",
    "E6 = E6.iloc[2:, :]\n",
    "E6.columns = ['cycles', 'crack length']\n",
    "E6['R'], E6['OLR'] = 0.3, 2.0\n",
    "\n",
    "E7 = df.iloc[:, 12:14]\n",
    "E7 = E7.iloc[2:, :]\n",
    "E7.columns = ['cycles', 'crack length']\n",
    "E7['R'], E7['OLR'] = 0.5, None\n",
    "\n",
    "E8 = df.iloc[:, 14:16]\n",
    "E8 = E8.iloc[2:, :]\n",
    "E8.columns = ['cycles', 'crack length']\n",
    "E8['R'], E8['OLR'] = 0.5, 1.5\n",
    "\n",
    "E9 = df.iloc[:, 16:18]\n",
    "E9 = E9.iloc[2:, :]\n",
    "E9.columns = ['cycles', 'crack length']\n",
    "E9['R'], E9['OLR'] = 0.5, 2.0\n",
    "\n",
    "E10 = df.iloc[:, 18:20]\n",
    "E10 = E10.iloc[2:, :]\n",
    "E10.columns = ['cycles', 'crack length']\n",
    "E10['R'], E10['OLR'] = 0.7, None\n",
    "\n",
    "E11 = df.iloc[:, 20:22]\n",
    "E11 = E11.iloc[2:, :]\n",
    "E11.columns = ['cycles', 'crack length']\n",
    "E11['R'], E11['OLR'] = 0.7, 1.5\n",
    "\n",
    "E12 = df.iloc[:, 22:24]\n",
    "E12 = E12.iloc[2:, :]\n",
    "E12.columns = ['cycles', 'crack length']\n",
    "E12['R'], E12['OLR'] = 0.7, 2.0\n",
    "\n",
    "# Concatenate all the experiments into one dataframe\n",
    "data = pd.concat([E1, E2, E3, E4, E5, E6, E7, E8, E9, E10, E11, E12])\n",
    "\n",
    "# Remove the rows with NaN values\n",
    "data = data.dropna()\n"
   ]
  },
  {
   "cell_type": "code",
   "execution_count": 113,
   "metadata": {},
   "outputs": [
    {
     "name": "stdout",
     "output_type": "stream",
     "text": [
      "(1650, 4)\n",
      "  cycles crack length    R  OLR\n",
      "2   9984      10.3196  0.1  1.5\n",
      "3  12236       10.371  0.1  1.5\n",
      "4  17057       10.423  0.1  1.5\n",
      "5  19425      10.4742  0.1  1.5\n",
      "6  21109      10.5272  0.1  1.5\n",
      "Train data missing values:\n",
      "False\n",
      "Train data empty values:\n",
      "False\n",
      "Train data duplicate rows:\n",
      "False\n"
     ]
    }
   ],
   "source": [
    "print(data.shape)\n",
    "\n",
    "print(data.head())\n",
    "\n",
    "# Check for missing values\n",
    "print(\"Train data missing values:\")\n",
    "print(data.isna().values.any())\n",
    "\n",
    "# Check for empty values\n",
    "print(\"Train data empty values:\")\n",
    "print(data.isnull().values.any())\n",
    "\n",
    "# Check for duplicate rows\n",
    "print(\"Train data duplicate rows:\")\n",
    "print(data.duplicated().values.any())\n",
    "\n"
   ]
  },
  {
   "cell_type": "code",
   "execution_count": 114,
   "metadata": {},
   "outputs": [
    {
     "name": "stdout",
     "output_type": "stream",
     "text": [
      "(1650, 3)\n",
      "(1650,)\n"
     ]
    }
   ],
   "source": [
    "X = data.drop('crack length', axis=1).values\n",
    "y = data['crack length'].values\n",
    "\n",
    "print(X.shape)\n",
    "print(y.shape)"
   ]
  },
  {
   "cell_type": "code",
   "execution_count": 115,
   "metadata": {},
   "outputs": [
    {
     "name": "stdout",
     "output_type": "stream",
     "text": [
      "99646.88987879074 188248.41597717375\n",
      "0.4594176773115333 0.39872327236145244\n"
     ]
    }
   ],
   "source": [
    "X_train, X_test, y_train, y_test = train_test_split(X, y, random_state=42, train_size = .8)\n",
    "\n",
    "scaler = MinMaxScaler(feature_range = (0, 1))\n",
    "X_train_scaled = scaler.fit_transform(X_train)\n",
    "X_test_scaled = scaler.transform(X_test)\n",
    "\n",
    "print(np.mean(X), np.std(X))\n",
    "print(np.mean(X_train_scaled), np.std(X_train_scaled))"
   ]
  },
  {
   "cell_type": "code",
   "execution_count": 116,
   "metadata": {},
   "outputs": [
    {
     "name": "stderr",
     "output_type": "stream",
     "text": [
      "/home/mholubovskyi/work/opensource/ml/qste340tm-modeling-of-fatigue-failure-after-single-overload/.venv/lib/python3.10/site-packages/sklearn/ensemble/_forest.py:615: UserWarning: Some inputs do not have OOB scores. This probably means too few trees were used to compute any reliable OOB estimates.\n",
      "  warn(\n"
     ]
    },
    {
     "data": {
      "image/png": "[encoded data removed]",
      "text/plain": [
       "<Figure size 640x480 with 1 Axes>"
      ]
     },
     "metadata": {},
     "output_type": "display_data"
    }
   ],
   "source": [
    "# Define the random forest model\n",
    "regressor = RandomForestRegressor(n_estimators=10, random_state=0, oob_score=True)\n",
    "regressor.fit(X_train, y_train)\n",
    "y_pred = regressor.predict(X_test)\n",
    "a = plt.axes(aspect='equal')\n",
    "plt.scatter(y_test, y_pred)\n",
    "plt.xlabel('True Values [mm]')\n",
    "plt.ylabel('Predictions [mm]')\n",
    "lims = [10, 20]\n",
    "plt.xlim(lims)\n",
    "plt.ylim(lims)\n",
    "_ = plt.plot(lims, lims)\n",
    "plt.show()\n"
   ]
  },
  {
   "cell_type": "code",
   "execution_count": 117,
   "metadata": {},
   "outputs": [
    {
     "data": {
      "image/png": "[encoded data removed]",
      "text/plain": [
       "<Figure size 640x480 with 1 Axes>"
      ]
     },
     "metadata": {},
     "output_type": "display_data"
    }
   ],
   "source": [
    "# Define the decision tree model\n",
    "from sklearn.tree import DecisionTreeRegressor\n",
    "model = DecisionTreeRegressor(max_depth=12)\n",
    "model.fit(X_train, y_train)\n",
    "y_pred = model.predict(X_test)\n",
    "\n",
    "a = plt.axes(aspect='equal')\n",
    "plt.scatter(y_test, y_pred)\n",
    "plt.xlabel('True Values [mm]')\n",
    "plt.ylabel('Predictions [mm]')\n",
    "lims = [10, 20]\n",
    "plt.xlim(lims)\n",
    "plt.ylim(lims)\n",
    "_ = plt.plot(lims, lims)\n",
    "plt.show()\n"
   ]
  },
  {
   "cell_type": "code",
   "execution_count": 118,
   "metadata": {},
   "outputs": [
    {
     "data": {
      "image/png": "[encoded data removed]",
      "text/plain": [
       "<Figure size 640x480 with 1 Axes>"
      ]
     },
     "metadata": {},
     "output_type": "display_data"
    }
   ],
   "source": [
    "# Define the support vector machine model\n",
    "from sklearn import svm\n",
    "model = svm.SVR()\n",
    "model.fit(X_train_scaled, y_train)\n",
    "predictions = model.predict(X_test)\n",
    "a = plt.axes(aspect='equal')\n",
    "plt.scatter(y_test, y_pred)\n",
    "plt.xlabel('True Values [mm]')\n",
    "plt.ylabel('Predictions [mm]')\n",
    "lims = [10, 20]\n",
    "plt.xlim(lims)\n",
    "plt.ylim(lims)\n",
    "_ = plt.plot(lims, lims)\n",
    "plt.show()"
   ]
  }
 ],
 "metadata": {
  "kernelspec": {
   "display_name": ".venv",
   "language": "python",
   "name": "python3"
  },
  "language_info": {
   "codemirror_mode": {
    "name": "ipython",
    "version": 3
   },
   "file_extension": ".py",
   "mimetype": "text/x-python",
   "name": "python",
   "nbconvert_exporter": "python",
   "pygments_lexer": "ipython3",
   "version": "3.10.12"
  }
 },
 "nbformat": 4,
 "nbformat_minor": 2
}
